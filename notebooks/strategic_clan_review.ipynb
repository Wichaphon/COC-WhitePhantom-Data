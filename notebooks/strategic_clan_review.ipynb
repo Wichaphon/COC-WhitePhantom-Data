{
 "cells": [
  {
   "cell_type": "markdown",
   "metadata": {},
   "source": [
    "For this version pls upload dataset_2024-12-21.csv --\n",
    "\n",
    "-We apologize for any inconvenience caused. Improvements are planned for the next version. Sorry to all clan members for the inconvenience.-"
   ]
  },
  {
   "cell_type": "code",
   "execution_count": null,
   "metadata": {
    "vscode": {
     "languageId": "plaintext"
    }
   },
   "outputs": [],
   "source": [
    "from google.colab import files\n",
    "import pandas as pd\n",
    "import matplotlib.pyplot as plt\n",
    "import seaborn as sns\n",
    "from sklearn.linear_model import LinearRegression\n",
    "from sklearn.model_selection import train_test_split\n",
    "from sklearn.metrics import mean_squared_error, r2_score\n",
    "\n",
    "uploaded = files.upload()\n",
    "file_name = list(uploaded.keys())[0]  \n",
    "\n",
    "\n",
    "df = pd.read_csv(file_name, encoding='ISO-8859-1') \n",
    "print(df.info())\n",
    "print(df.describe())\n",
    "\n",
    "correlation = df.select_dtypes(include=['float64']).corr()\n",
    "print(correlation)\n",
    "\n",
    "plt.figure(figsize=(8, 6))\n",
    "sns.heatmap(correlation, annot=True, cmap='coolwarm', fmt='.2f', linewidths=0.5)\n",
    "plt.title('Correlation Matrix Heatmap')\n",
    "plt.show()\n",
    "\n",
    "df['Performance_Group'] = pd.cut(\n",
    "    df['League_Points'], \n",
    "    bins=[0, 1500, 3000, 5000], \n",
    "    labels=['Low', 'Medium', 'High']\n",
    ")\n",
    "\n",
    "print(df['Performance_Group'].value_counts())\n",
    "\n",
    "plt.figure(figsize=(12, 6))\n",
    "sns.boxplot(x='Performance_Group', y='WarStarWon', data=df, palette='Set2')\n",
    "plt.title('War Stars Won by Performance Group')\n",
    "plt.xlabel('Performance Group')\n",
    "plt.ylabel('War Stars Won')\n",
    "plt.grid(True, linestyle='--', alpha=0.6)\n",
    "plt.show()\n",
    "\n",
    "X = df[['Townhall']]  \n",
    "y = df['League_Points']  \n",
    "\n",
    "df_no_name = df.dropna(subset=['Townhall', 'League_Points', 'WarStarWon']) \n",
    "X_train, X_test, y_train, y_test = train_test_split(df_no_name[['Townhall']], df_no_name['League_Points'], test_size=0.2, random_state=42)\n",
    "\n",
    "model = LinearRegression()\n",
    "model.fit(X_train, y_train)\n",
    "\n",
    "y_pred = model.predict(X_test)\n",
    "\n",
    "print(\"Model Coefficient (Slope):\", model.coef_[0])\n",
    "print(\"Model Intercept:\", model.intercept_)\n",
    "print(\"Mean Squared Error:\", mean_squared_error(y_test, y_pred))\n",
    "print(\"R^2 Score:\", r2_score(y_test, y_pred))\n",
    "\n",
    "plt.figure(figsize=(10, 6))\n",
    "sns.scatterplot(x=X_test['Townhall'], y=y_test, label='Actual Data')\n",
    "plt.plot(X_test['Townhall'], y_pred, color='red', linewidth=2, label='Regression Line')\n",
    "plt.title('Linear Regression: Townhall vs League Points')\n",
    "plt.xlabel('Townhall Level')\n",
    "plt.ylabel('League Points')\n",
    "plt.legend()\n",
    "plt.grid(True, linestyle='--', alpha=0.6)\n",
    "plt.show()\n",
    "\n",
    "summary = df.groupby('Performance_Group', observed=False).agg(\n",
    "    Avg_League_Points=('League_Points', 'mean'),\n",
    "    Avg_WarStars=('WarStarWon', 'mean'),\n",
    "    Max_League_Points=('League_Points', 'max'),\n",
    "    Max_WarStars=('WarStarWon', 'max')\n",
    ").reset_index()\n",
    "\n",
    "print(summary)\n"
   ]
  }
 ],
 "metadata": {
  "language_info": {
   "name": "python"
  }
 },
 "nbformat": 4,
 "nbformat_minor": 2
}
