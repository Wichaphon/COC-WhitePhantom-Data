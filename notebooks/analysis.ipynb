{
 "cells": [
  {
   "cell_type": "code",
   "execution_count": null,
   "metadata": {
    "vscode": {
     "languageId": "plaintext"
    }
   },
   "outputs": [],
   "source": [
    "import pandas as pd\n",
    "import matplotlib.pyplot as plt\n",
    "import seaborn as sns\n",
    "\n",
    "df = pd.read_csv('../data/dataset_2024-12-20.csv')\n",
    "df.head()\n",
    "\n",
    "correlation = df.corr()\n",
    "correlation\n",
    "\n",
    "plt.figure(figsize=(10, 6))\n",
    "sns.scatterplot(x='townhall', y='league_point', data=df)\n",
    "plt.title('Scatter Plot of Townhall vs League Points')\n",
    "plt.xlabel('Townhall Level')\n",
    "plt.ylabel('League Points')\n",
    "plt.grid(True, linestyle='--', alpha=0.6)\n",
    "plt.show()\n",
    "\n",
    "#Regression Plot\n",
    "plt.figure(figsize=(10, 6))\n",
    "sns.regplot(x='townhall', y='league_point', data=df, line_kws={'color': 'red'}, scatter_kws={'s': 50})\n",
    "plt.title('Regression Plot of Townhall vs League Points')\n",
    "plt.xlabel('Townhall Level')\n",
    "plt.ylabel('League Points')\n",
    "plt.grid(True, linestyle='--', alpha=0.6)\n",
    "plt.show()\n",
    "\n",
    "#Box Plot\n",
    "plt.figure(figsize=(12, 6))\n",
    "sns.boxplot(x='townhall', y='league_point', data=df)\n",
    "plt.title('Box Plot of League Points by Townhall Level')\n",
    "plt.xlabel('Townhall Level')\n",
    "plt.ylabel('League Points')\n",
    "plt.grid(True, linestyle='--', alpha=0.6)\n",
    "plt.show()\n",
    "\n",
    "#Violin Plot\n",
    "plt.figure(figsize=(12, 6))\n",
    "sns.violinplot(x='townhall', y='league_point', data=df)\n",
    "plt.title('Violin Plot of League Points by Townhall Level')\n",
    "plt.xlabel('Townhall Level')\n",
    "plt.ylabel('League Points')\n",
    "plt.grid(True, linestyle='--', alpha=0.6)\n",
    "plt.show()\n",
    "\n",
    "#Pair Plot\n",
    "sns.pairplot(df)\n",
    "plt.show()\n",
    "\n",
    "#Joint Plot\n",
    "sns.jointplot(x='townhall', y='league_point', data=df, kind='scatter', height=8)\n",
    "plt.show()\n",
    "\n",
    "#KDE Plot\n",
    "plt.figure(figsize=(10, 6))\n",
    "sns.kdeplot(x='townhall', y='league_point', data=df, cmap=\"Reds\", shade=True)\n",
    "plt.title('KDE Plot of Townhall vs League Points')\n",
    "plt.xlabel('Townhall Level')\n",
    "plt.ylabel('League Points')\n",
    "plt.grid(True, linestyle='--', alpha=0.6)\n",
    "plt.show()\n"
   ]
  }
 ],
 "metadata": {
  "language_info": {
   "name": "python"
  }
 },
 "nbformat": 4,
 "nbformat_minor": 2
}
